{
 "cells": [
  {
   "cell_type": "code",
   "execution_count": 1,
   "metadata": {},
   "outputs": [],
   "source": [
    "from ultralytics import YOLO"
   ]
  },
  {
   "cell_type": "code",
   "execution_count": 2,
   "metadata": {},
   "outputs": [
    {
     "name": "stderr",
     "output_type": "stream",
     "text": [
      "Downloading https://github.com/ultralytics/assets/releases/download/v0.0.0/yolov8n.pt to yolov8n.pt...\n",
      "100%|██████████| 6.23M/6.23M [00:04<00:00, 1.37MB/s]\n"
     ]
    }
   ],
   "source": [
    "model = YOLO(\"yolov8n.pt\")"
   ]
  },
  {
   "cell_type": "code",
   "execution_count": 3,
   "metadata": {},
   "outputs": [
    {
     "name": "stdout",
     "output_type": "stream",
     "text": [
      "Downloading https://github.com/ultralytics/assets/releases/download/v0.0.0/yolov8x.pt to yolov8x.pt...\n",
      "100%|████████████████████████████████████████| 131M/131M [00:46<00:00, 2.97MB/s]\n",
      "Ultralytics YOLOv8.0.105 🚀 Python-3.10.6 torch-2.0.1+cu117 CPU\n",
      "YOLOv8x summary (fused): 268 layers, 68200608 parameters, 0 gradients, 257.8 GFLOPs\n",
      "\n"
     ]
    }
   ],
   "source": [
    "!yolo task=detect mode = predict model = yolov8x.pt source='/media/aditya/40179300-b381-4487-88c4-ec7a8039c26f/Videos/4K Video of Highway Traffic!.mkv'"
   ]
  },
  {
   "cell_type": "code",
   "execution_count": null,
   "metadata": {},
   "outputs": [
    {
     "name": "stderr",
     "output_type": "stream",
     "text": [
      "\n",
      "image 1/1 /home/aditya/Downloads/Vehicle-Detection-main/test_images/imtest13.JPG: 448x640 8 cars, 2 buss, 1 truck, 61.8ms\n",
      "Speed: 2.5ms preprocess, 61.8ms inference, 1.2ms postprocess per image at shape (1, 3, 640, 640)\n"
     ]
    },
    {
     "data": {
      "text/plain": [
       "[ultralytics.yolo.engine.results.Results object with attributes:\n",
       " \n",
       " boxes: ultralytics.yolo.engine.results.Boxes object\n",
       " keypoints: None\n",
       " keys: ['boxes']\n",
       " masks: None\n",
       " names: {0: 'person', 1: 'bicycle', 2: 'car', 3: 'motorcycle', 4: 'airplane', 5: 'bus', 6: 'train', 7: 'truck', 8: 'boat', 9: 'traffic light', 10: 'fire hydrant', 11: 'stop sign', 12: 'parking meter', 13: 'bench', 14: 'bird', 15: 'cat', 16: 'dog', 17: 'horse', 18: 'sheep', 19: 'cow', 20: 'elephant', 21: 'bear', 22: 'zebra', 23: 'giraffe', 24: 'backpack', 25: 'umbrella', 26: 'handbag', 27: 'tie', 28: 'suitcase', 29: 'frisbee', 30: 'skis', 31: 'snowboard', 32: 'sports ball', 33: 'kite', 34: 'baseball bat', 35: 'baseball glove', 36: 'skateboard', 37: 'surfboard', 38: 'tennis racket', 39: 'bottle', 40: 'wine glass', 41: 'cup', 42: 'fork', 43: 'knife', 44: 'spoon', 45: 'bowl', 46: 'banana', 47: 'apple', 48: 'sandwich', 49: 'orange', 50: 'broccoli', 51: 'carrot', 52: 'hot dog', 53: 'pizza', 54: 'donut', 55: 'cake', 56: 'chair', 57: 'couch', 58: 'potted plant', 59: 'bed', 60: 'dining table', 61: 'toilet', 62: 'tv', 63: 'laptop', 64: 'mouse', 65: 'remote', 66: 'keyboard', 67: 'cell phone', 68: 'microwave', 69: 'oven', 70: 'toaster', 71: 'sink', 72: 'refrigerator', 73: 'book', 74: 'clock', 75: 'vase', 76: 'scissors', 77: 'teddy bear', 78: 'hair drier', 79: 'toothbrush'}\n",
       " orig_img: array([[[152, 160, 143],\n",
       "         [151, 159, 142],\n",
       "         [149, 159, 143],\n",
       "         ...,\n",
       "         [ 96, 128,  17],\n",
       "         [ 96, 128,  17],\n",
       "         [ 95, 127,  16]],\n",
       " \n",
       "        [[151, 159, 142],\n",
       "         [150, 160, 143],\n",
       "         [151, 161, 145],\n",
       "         ...,\n",
       "         [ 96, 128,  17],\n",
       "         [ 96, 128,  17],\n",
       "         [ 96, 128,  17]],\n",
       " \n",
       "        [[148, 158, 141],\n",
       "         [150, 160, 143],\n",
       "         [153, 163, 147],\n",
       "         ...,\n",
       "         [ 97, 129,  18],\n",
       "         [ 97, 129,  18],\n",
       "         [ 97, 129,  18]],\n",
       " \n",
       "        ...,\n",
       " \n",
       "        [[163, 180, 169],\n",
       "         [160, 177, 166],\n",
       "         [159, 177, 164],\n",
       "         ...,\n",
       "         [154, 173, 158],\n",
       "         [151, 170, 155],\n",
       "         [149, 168, 153]],\n",
       " \n",
       "        [[163, 180, 169],\n",
       "         [161, 178, 167],\n",
       "         [160, 178, 165],\n",
       "         ...,\n",
       "         [152, 171, 156],\n",
       "         [151, 170, 155],\n",
       "         [151, 170, 155]],\n",
       " \n",
       "        [[162, 179, 168],\n",
       "         [160, 177, 166],\n",
       "         [161, 179, 166],\n",
       "         ...,\n",
       "         [151, 170, 155],\n",
       "         [152, 171, 156],\n",
       "         [154, 173, 158]]], dtype=uint8)\n",
       " orig_shape: (1584, 2376)\n",
       " path: '/home/aditya/Downloads/Vehicle-Detection-main/test_images/imtest13.JPG'\n",
       " probs: None\n",
       " speed: {'preprocess': 2.4552345275878906, 'inference': 61.77115440368652, 'postprocess': 1.1878013610839844}]"
      ]
     },
     "execution_count": 6,
     "metadata": {},
     "output_type": "execute_result"
    }
   ],
   "source": [
    "model.predict(source='/home/aditya/Downloads/Vehicle-Detection-main/test_images/imtest13.JPG')"
   ]
  },
  {
   "cell_type": "code",
   "execution_count": null,
   "metadata": {},
   "outputs": [],
   "source": []
  }
 ],
 "metadata": {
  "kernelspec": {
   "display_name": "Python 3",
   "language": "python",
   "name": "python3"
  },
  "language_info": {
   "codemirror_mode": {
    "name": "ipython",
    "version": 3
   },
   "file_extension": ".py",
   "mimetype": "text/x-python",
   "name": "python",
   "nbconvert_exporter": "python",
   "pygments_lexer": "ipython3",
   "version": "3.10.6"
  },
  "orig_nbformat": 4
 },
 "nbformat": 4,
 "nbformat_minor": 2
}
