{
 "cells": [
  {
   "cell_type": "code",
   "execution_count": 10,
   "metadata": {},
   "outputs": [
    {
     "name": "stderr",
     "output_type": "stream",
     "text": [
      "OpenCV: FFMPEG: tag 0x58564944/'DIVX' is not supported with codec id 12 and format 'mp4 / MP4 (MPEG-4 Part 14)'\n",
      "OpenCV: FFMPEG: fallback to use tag 0x7634706d/'mp4v'\n"
     ]
    }
   ],
   "source": [
    "import cv2\n",
    "\n",
    "frame_array = []  \n",
    "count = 0 \n",
    "\n",
    "cap = cv2.VideoCapture('Obstacle.mp4')\n",
    "video_length = int(cap.get(cv2.CAP_PROP_FRAME_COUNT)) - 1\n",
    "  \n",
    "car_cascade = cv2.CascadeClassifier('cars.xml')\n",
    "  \n",
    "while True:\n",
    "    ret, frames = cap.read()\n",
    "      \n",
    "    gray = cv2.cvtColor(frames, cv2.COLOR_BGR2GRAY)\n",
    "      \n",
    "    cars = car_cascade.detectMultiScale(gray, 1.1, 1)\n",
    "      \n",
    "    for (x,y,w,h) in cars:\n",
    "        if (x + y > 550) & (y > 50) & (w*h > 2000) & (y - 0.84*x + 605 > 0):\n",
    "            cv2.rectangle(frames,(x,y),(x+w,y+h),(0,0,255),2)\n",
    "        \n",
    "        frame_array.append(frames)\n",
    "\n",
    "    count= count + 1\n",
    "\n",
    "    if (count > (video_length-1)):\n",
    "        cap.release()\n",
    "        break\n",
    "\n",
    "\n",
    "out = cv2.VideoWriter('obstacle_detection_ML.mp4',cv2.VideoWriter_fourcc(*'DIVX'), 300, (1280,720))\n",
    "for j in range(len(frame_array)):\n",
    "    out.write(frame_array[j])\n",
    "out.release()\n"
   ]
  }
 ],
 "metadata": {
  "kernelspec": {
   "display_name": "Python 3",
   "language": "python",
   "name": "python3"
  },
  "language_info": {
   "codemirror_mode": {
    "name": "ipython",
    "version": 3
   },
   "file_extension": ".py",
   "mimetype": "text/x-python",
   "name": "python",
   "nbconvert_exporter": "python",
   "pygments_lexer": "ipython3",
   "version": "3.10.6"
  },
  "orig_nbformat": 4
 },
 "nbformat": 4,
 "nbformat_minor": 2
}
