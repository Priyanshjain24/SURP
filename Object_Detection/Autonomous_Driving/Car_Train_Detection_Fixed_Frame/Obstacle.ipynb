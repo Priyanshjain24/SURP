{
 "cells": [
  {
   "attachments": {},
   "cell_type": "markdown",
   "metadata": {},
   "source": [
    "https://www.analyticsvidhya.com/blog/2020/04/vehicle-detection-opencv-python/"
   ]
  },
  {
   "cell_type": "code",
   "execution_count": 1,
   "metadata": {},
   "outputs": [],
   "source": [
    "import os\n",
    "import cv2\n",
    "import numpy as np"
   ]
  },
  {
   "cell_type": "code",
   "execution_count": 2,
   "metadata": {},
   "outputs": [],
   "source": [
    "pathIn = \"/home/priyanshjain/Downloads/Stride_Assignment/obstacle_input/\"\n",
    "pathOut = \"obstacle_output/\""
   ]
  },
  {
   "cell_type": "code",
   "execution_count": 17,
   "metadata": {},
   "outputs": [],
   "source": [
    "def video_to_frames(input_loc, output_loc):\n",
    "\n",
    "    cap = cv2.VideoCapture(input_loc)\n",
    "    video_length = int(cap.get(cv2.CAP_PROP_FRAME_COUNT)) - 1\n",
    "    count = 0\n",
    "\n",
    "    while cap.isOpened():\n",
    "        ret, frame = cap.read()\n",
    "        cv2.imwrite(output_loc + \"%03d\" % count + '.jpg', frame)\n",
    "        count = count + 1\n",
    "\n",
    "        if (count > (video_length-1)):\n",
    "            cap.release()\n",
    "            break\n",
    "\n",
    "def frames_to_video(input_loc,output_loc):\n",
    "    frame_array = []\n",
    "    files = os.listdir(input_loc)  \n",
    "    files.sort()\n",
    "\n",
    "    for i,file_name in enumerate(files):\n",
    "        img = cv2.imread(input_loc+file_name)\n",
    "        height, width, layers = img.shape\n",
    "        size = (width,height)\n",
    "        frame_array.append(img)\n",
    "\n",
    "    out = cv2.VideoWriter(output_loc,cv2.VideoWriter_fourcc(*'DIVX'), 29.97, size)\n",
    "\n",
    "    for j in range(len(frame_array)):\n",
    "        out.write(frame_array[j])\n",
    "    out.release()"
   ]
  },
  {
   "cell_type": "code",
   "execution_count": 7,
   "metadata": {},
   "outputs": [],
   "source": [
    "def load_input_frames(path):\n",
    "    img = []\n",
    "    images = os.listdir(path)\n",
    "    images.sort()\n",
    "\n",
    "    for i, image_name in enumerate(images):\n",
    "        image = cv2.imread(path+image_name,1)\n",
    "        img.append(image)\n",
    "    \n",
    "    return img\n",
    "\n",
    "def image_preprocess(A, B):\n",
    "    grayA = cv2.cvtColor(A, cv2.COLOR_BGR2GRAY)\n",
    "    grayB = cv2.cvtColor(B, cv2.COLOR_BGR2GRAY)\n",
    "    diff_image = cv2.absdiff(grayB, grayA)\n",
    "    blur = cv2.GaussianBlur(diff_image, (5,5), 0)\n",
    "    ret, thresh = cv2.threshold(blur, 0, 255, cv2.THRESH_BINARY+cv2.THRESH_OTSU)\n",
    "    kernel = np.ones((5,5),np.uint8)\n",
    "    dilated_car = cv2.dilate(thresh,kernel,iterations = 6)\n",
    "    dilated_train = cv2.dilate(thresh,kernel,iterations = 3)\n",
    "    return dilated_car, dilated_train\n",
    "\n",
    "def detect(dilated_car, dilated_train):\n",
    "    contours_car, hierarchy_car = cv2.findContours(dilated_car.copy(), cv2.RETR_TREE,cv2.CHAIN_APPROX_NONE)\n",
    "    contours_train, hierarchy_train = cv2.findContours(dilated_train.copy(), cv2.RETR_TREE,cv2.CHAIN_APPROX_NONE)\n",
    "    rect_car = []\n",
    "    rect_train = []\n",
    "    \n",
    "    for i,cntr in enumerate(contours_car):\n",
    "        a = cv2.boundingRect(cntr)\n",
    "        if (a[0] + a[1] > 550) & (a[1] > 50) & (cv2.contourArea(cntr) > 1500) & (a[1] - 0.84*a[0] + 605 > 0):\n",
    "            rect_car.append(a)\n",
    "\n",
    "    for i,cntr in enumerate(contours_train):\n",
    "        a = cv2.boundingRect(cntr)\n",
    "        if (a[1]+0.5*a[3] - 0.84*(a[0]+0.5*a[2]) + 650 < 0) & (cv2.contourArea(cntr) > 1500):\n",
    "            rect_train.append(cntr)\n",
    "\n",
    "    return rect_car, rect_train    \n",
    "    \n",
    "def display_detection(img,idx,points_car, points_train, path):\n",
    "    plag = img.copy()\n",
    "    font = cv2.FONT_HERSHEY_SIMPLEX\n",
    "    \n",
    "    if (len(points_car) != 0):\n",
    "        for i,coor in enumerate(points_car):\n",
    "            x,y,w,h = coor\n",
    "            cv2.rectangle(plag, (x,y),(x+w,y+h), (0,0,255), 2)\n",
    "\n",
    "    if (len(points_train) == 1):\n",
    "        x,y,w,h = cv2.boundingRect(points_train[0])\n",
    "        cv2.rectangle(plag, (x,y),(x+w,y+h), (255,0,0), 2)\n",
    "\n",
    "    cv2.imwrite(path+\"%03d\" % idx+'.png',plag)\n",
    "\n",
    "    return plag\n",
    "    \n",
    "def write_output_frames(input_path, output_path):\n",
    "    input = load_input_frames(input_path)\n",
    "    \n",
    "    for i in range(0,len(input)-1):\n",
    "        processed_car, processed_train = image_preprocess(input[i],input[i+1])\n",
    "        detection_car, detection_train = detect(processed_car, processed_train)\n",
    "        display_detection(input[i],i,detection_car, detection_train,output_path)"
   ]
  },
  {
   "cell_type": "code",
   "execution_count": 11,
   "metadata": {},
   "outputs": [],
   "source": [
    "def detect_obstacle_in_video():\n",
    "    video_to_frames('Obstacle.mp4', pathIn)\n",
    "    write_output_frames(pathIn,pathOut)\n",
    "    frames_to_video(pathOut, 'obstacle_detection.mp4')"
   ]
  },
  {
   "cell_type": "code",
   "execution_count": 18,
   "metadata": {},
   "outputs": [
    {
     "name": "stderr",
     "output_type": "stream",
     "text": [
      "OpenCV: FFMPEG: tag 0x58564944/'DIVX' is not supported with codec id 12 and format 'mp4 / MP4 (MPEG-4 Part 14)'\n",
      "OpenCV: FFMPEG: fallback to use tag 0x7634706d/'mp4v'\n"
     ]
    }
   ],
   "source": [
    "detect_obstacle_in_video()"
   ]
  }
 ],
 "metadata": {
  "kernelspec": {
   "display_name": "Python 3",
   "language": "python",
   "name": "python3"
  },
  "language_info": {
   "codemirror_mode": {
    "name": "ipython",
    "version": 3
   },
   "file_extension": ".py",
   "mimetype": "text/x-python",
   "name": "python",
   "nbconvert_exporter": "python",
   "pygments_lexer": "ipython3",
   "version": "3.10.6"
  },
  "orig_nbformat": 4
 },
 "nbformat": 4,
 "nbformat_minor": 2
}
