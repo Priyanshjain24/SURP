{
 "cells": [
  {
   "attachments": {},
   "cell_type": "markdown",
   "metadata": {},
   "source": [
    "https://machinelearningmastery.com/how-to-develop-a-convolutional-neural-network-from-scratch-for-mnist-handwritten-digit-classification/"
   ]
  },
  {
   "cell_type": "code",
   "execution_count": 12,
   "metadata": {},
   "outputs": [],
   "source": [
    "from numpy import mean\n",
    "from numpy import std\n",
    "from matplotlib import pyplot as plt\n",
    "from sklearn.model_selection import KFold\n",
    "from sklearn.model_selection import train_test_split\n",
    "from keras.datasets import mnist\n",
    "from keras.utils import to_categorical\n",
    "from keras.models import Sequential\n",
    "from keras.layers import Conv2D\n",
    "from keras.layers import MaxPooling2D\n",
    "from keras.layers import Dense\n",
    "from keras.layers import Flatten\n",
    "from keras.layers import BatchNormalization\n",
    "from keras.optimizers import SGD\n"
   ]
  },
  {
   "cell_type": "code",
   "execution_count": 17,
   "metadata": {},
   "outputs": [],
   "source": [
    "def load_dataset():\n",
    " (trainX, trainY), (testX, testY) = mnist.load_data()\n",
    " trainX = trainX.reshape((trainX.shape[0], 28, 28, 1))\n",
    " testX = testX.reshape((testX.shape[0], 28, 28, 1))\n",
    " trainY = to_categorical(trainY)\n",
    " testY = to_categorical(testY)\n",
    " return trainX, trainY, testX, testY"
   ]
  },
  {
   "cell_type": "code",
   "execution_count": 18,
   "metadata": {},
   "outputs": [],
   "source": [
    "def prep_pixels(train, test):\n",
    " train_norm = train.astype('float32')\n",
    " test_norm = test.astype('float32')\n",
    " train_norm = train_norm / 255.0\n",
    " test_norm = test_norm / 255.0\n",
    " return train_norm, test_norm"
   ]
  },
  {
   "cell_type": "code",
   "execution_count": 39,
   "metadata": {},
   "outputs": [],
   "source": [
    "def define_model():\n",
    " model = Sequential()\n",
    " model.add(Conv2D(32, (3, 3), activation='relu', kernel_initializer='he_uniform', input_shape=(28, 28, 1)))\n",
    " model.add(BatchNormalization())\n",
    " model.add(MaxPooling2D((2, 2)))\n",
    " model.add(Conv2D(64, (3,3), activation='relu', kernel_initializer='he_uniform'))\n",
    " model.add(BatchNormalization())\n",
    " model.add(Conv2D(64, (3,3), activation='relu', kernel_initializer='he_uniform'))\n",
    " model.add(BatchNormalization())\n",
    " model.add(Flatten())\n",
    " model.add(Dense(100, activation='relu', kernel_initializer='he_uniform'))\n",
    " model.add(BatchNormalization())\n",
    " model.add(Dense(50, activation='relu', kernel_initializer='he_uniform'))\n",
    " model.add(BatchNormalization())\n",
    " model.add(Dense(10, activation='softmax'))\n",
    " opt = SGD(learning_rate=0.1, momentum=0.9)\n",
    " model.compile(optimizer=opt, loss='categorical_crossentropy', metrics=['accuracy'])\n",
    " return model"
   ]
  },
  {
   "cell_type": "code",
   "execution_count": 19,
   "metadata": {},
   "outputs": [],
   "source": [
    "def evaluate_model(dataX, dataY):\n",
    " trainX, testX, trainY, testY = train_test_split(dataX, dataY, test_size=0.2, random_state=42)\n",
    " model = define_model()\n",
    " history = model.fit(trainX, trainY, epochs=10, batch_size=32, validation_data=(testX, testY), verbose=0)\n",
    " _, acc = model.evaluate(testX, testY, verbose=0)\n",
    " print('> %.3f' % (acc * 100.0))\n",
    " return acc, history"
   ]
  },
  {
   "cell_type": "code",
   "execution_count": 40,
   "metadata": {},
   "outputs": [
    {
     "name": "stdout",
     "output_type": "stream",
     "text": [
      "Validation accuracy:\n",
      "> 99.000\n",
      "Test accuracy:\n",
      "> 99.160\n"
     ]
    }
   ],
   "source": [
    "trainX, trainY, testX, testY = load_dataset()\n",
    "trainX, testX = prep_pixels(trainX, testX)\n",
    "print(\"Validation accuracy:\")\n",
    "scores, histories = evaluate_model(trainX, trainY)\n",
    "model = define_model()\n",
    "model.fit(trainX, trainY, epochs=10, batch_size=32, verbose=0)\n",
    "# model.save('model.h5')\n",
    "_, acc = model.evaluate(testX, testY, verbose=0)\n",
    "print(\"Test accuracy:\")\n",
    "print('> %.3f' % (acc * 100.0))"
   ]
  }
 ],
 "metadata": {
  "kernelspec": {
   "display_name": "Python 3",
   "language": "python",
   "name": "python3"
  },
  "language_info": {
   "codemirror_mode": {
    "name": "ipython",
    "version": 3
   },
   "file_extension": ".py",
   "mimetype": "text/x-python",
   "name": "python",
   "nbconvert_exporter": "python",
   "pygments_lexer": "ipython3",
   "version": "3.10.6"
  },
  "orig_nbformat": 4,
  "vscode": {
   "interpreter": {
    "hash": "916dbcbb3f70747c44a77c7bcd40155683ae19c65e1c03b4aa3499c5328201f1"
   }
  }
 },
 "nbformat": 4,
 "nbformat_minor": 2
}
